{
 "cells": [
  {
   "cell_type": "code",
   "execution_count": null,
   "metadata": {},
   "outputs": [
    {
     "data": {
      "application/vnd.jupyter.widget-view+json": {
       "model_id": "f3d234bf15994a82a7aee4cda1b31b27",
       "version_major": 2,
       "version_minor": 0
      },
      "text/plain": [
       "Widget(value='<iframe src=\"http://localhost:63949/index.html?ui=P_0x24bc01e4f50_2&reconnect=auto\" class=\"pyvis…"
      ]
     },
     "metadata": {},
     "output_type": "display_data"
    }
   ],
   "source": [
    "import numpy as np\n",
    "import pyvista as pv\n",
    "\n"
   ]
  },
  {
   "cell_type": "code",
   "execution_count": null,
   "metadata": {},
   "outputs": [],
   "source": [
    "# Create the plotter\n",
    "plotter = pv.Plotter()\n",
    "\n",
    "# Add the Sun\n",
    "sun = pv.Sphere(radius=10)\n",
    "plotter.add_mesh(sun, color=\"yellow\")\n",
    "\n",
    "# Define planet orbits\n",
    "num_points = 100\n",
    "theta = np.linspace(0, 2 * np.pi, num_points)\n",
    "\n",
    "earth_orbit_radius = 50\n",
    "earth_orbit = np.array([earth_orbit_radius * np.cos(theta), earth_orbit_radius * np.sin(theta), np.zeros(num_points)]).T\n",
    "plotter.add_lines(earth_orbit, color=\"blue\")\n",
    "\n",
    "# Add Earth\n",
    "earth = pv.Sphere(radius=5, center=(earth_orbit[0]))\n",
    "plotter.add_mesh(earth, color=\"blue\")\n",
    "\n",
    "# Add the Sun's light\n",
    "plotter.add_light(pv.Light(position=(0, 0, 0), focal_point=(1, 0, 0), light_type='headlight'))\n",
    "\n",
    "# Show the plot\n",
    "plotter.show()\n"
   ]
  }
 ],
 "metadata": {
  "kernelspec": {
   "display_name": "Python 3",
   "language": "python",
   "name": "python3"
  },
  "language_info": {
   "codemirror_mode": {
    "name": "ipython",
    "version": 3
   },
   "file_extension": ".py",
   "mimetype": "text/x-python",
   "name": "python",
   "nbconvert_exporter": "python",
   "pygments_lexer": "ipython3",
   "version": "3.13.0"
  }
 },
 "nbformat": 4,
 "nbformat_minor": 2
}
